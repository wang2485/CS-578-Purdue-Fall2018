{
 "cells": [
  {
   "cell_type": "code",
   "execution_count": 1,
   "metadata": {},
   "outputs": [],
   "source": [
    "#Read the csv file and store it as a dictonary\n",
    "\n",
    "with open('nodes.csv', \"r\") as f:\n",
    "    lines = f.readlines()\n",
    "Edge_graph = {}\n",
    "Val_graph = {}\n",
    "previous_num = -1\n",
    "for line in lines:\n",
    "    node1 = line.split(\",\")[0].strip()[1:-1]\n",
    "    node2 = line.split(\",\")[1].strip()[1:-1]\n",
    "    node1_num = int(node1.split(\":\")[0])\n",
    "    node1_val = int(node1.split(\":\")[1])\n",
    "    node2_num = int(node2.split(\":\")[0])\n",
    "    node2_val = int(node2.split(\":\")[1])\n",
    "    Val_graph[node1_num] = node1_val\n",
    "    Val_graph[node2_num] = node2_val\n",
    "    if node1_num == previous_num:\n",
    "        Edge_graph[node1_num] = Edge_graph[node1_num]+[node2_num]\n",
    "    else:\n",
    "        Edge_graph[node1_num] = [node2_num]\n",
    "    previous_num = node1_num"
   ]
  },
  {
   "cell_type": "code",
   "execution_count": 2,
   "metadata": {},
   "outputs": [
    {
     "name": "stdout",
     "output_type": "stream",
     "text": [
      "Node 3297 has smallest number value 3\n",
      "\n"
     ]
    }
   ],
   "source": [
    "# Raising the resusion limit to a big number\n",
    "import sys\n",
    "sys.setrecursionlimit(50000)\n",
    "\n",
    "# Define the function recursive BFS\n",
    "def recursive_BFS(graph,queue,seen,min_val,min_node):\n",
    "    if (len(queue)!=0):\n",
    "        node = queue.pop(0)\n",
    "        if min_val>Val_graph[node]:\n",
    "            min_val = Val_graph[node]\n",
    "            min_node = node\n",
    "        else:\n",
    "            min_val = min_val\n",
    "            #min_node = min_node\n",
    "        seen.add(node)\n",
    "        if node not in graph.keys():\n",
    "            neighbors = []\n",
    "        else:\n",
    "            neighbors = graph[node]\n",
    "        for w in neighbors:\n",
    "            if (w not in seen) & (w not in queue):\n",
    "                queue.append(w)\n",
    "        recursive_BFS(graph,queue,seen,min_val,min_node)\n",
    "    else:\n",
    "        print \"Node %d has smallest number value %d\\n\" %(min_node,min_val)\n",
    "\n",
    "# Initialize some variables in the function\n",
    "queue = []\n",
    "queue.append(Edge_graph.keys()[0])\n",
    "seen = set()\n",
    "min_val = 'Inf'\n",
    "min_node = 0\n",
    "\n",
    "# Call function\n",
    "recursive_BFS(Edge_graph,queue,seen,min_val,min_node)\n"
   ]
  },
  {
   "cell_type": "code",
   "execution_count": null,
   "metadata": {},
   "outputs": [],
   "source": []
  }
 ],
 "metadata": {
  "kernelspec": {
   "display_name": "Python 2",
   "language": "python",
   "name": "python2"
  },
  "language_info": {
   "codemirror_mode": {
    "name": "ipython",
    "version": 2
   },
   "file_extension": ".py",
   "mimetype": "text/x-python",
   "name": "python",
   "nbconvert_exporter": "python",
   "pygments_lexer": "ipython2",
   "version": "2.7.15"
  }
 },
 "nbformat": 4,
 "nbformat_minor": 2
}
